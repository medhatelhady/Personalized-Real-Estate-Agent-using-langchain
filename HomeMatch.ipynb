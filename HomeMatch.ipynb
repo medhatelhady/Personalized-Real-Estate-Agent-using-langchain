{
 "cells": [
  {
   "cell_type": "code",
   "execution_count": 1,
   "metadata": {},
   "outputs": [],
   "source": [
    "#import libraries\n",
    "from langchain.document_loaders.csv_loader import CSVLoader\n",
    "from langchain.embeddings.openai import OpenAIEmbeddings\n",
    "from langchain.llms import OpenAI\n",
    "from langchain.chat_models import ChatOpenAI\n",
    "from langchain.text_splitter import CharacterTextSplitter\n",
    "from langchain.vectorstores import Chroma\n",
    "from langchain.prompts import PromptTemplate\n",
    "from langchain.memory import ConversationSummaryMemory, ChatMessageHistory\n",
    "from langchain.chains.conversational_retrieval.base import ConversationalRetrievalChain"
   ]
  },
  {
   "cell_type": "code",
   "execution_count": 2,
   "metadata": {},
   "outputs": [],
   "source": [
    "import os\n",
    "os.environ[\"OPENAI_API_KEY\"] =\"\"\n"
   ]
  },
  {
   "cell_type": "code",
   "execution_count": 23,
   "metadata": {},
   "outputs": [
    {
     "name": "stderr",
     "output_type": "stream",
     "text": [
      "c:\\Users\\medha\\miniconda3\\lib\\site-packages\\langchain\\llms\\openai.py:202: UserWarning: You are trying to use a chat model. This way of initializing it is no longer supported. Instead, please use: `from langchain.chat_models import ChatOpenAI`\n",
      "  warnings.warn(\n",
      "c:\\Users\\medha\\miniconda3\\lib\\site-packages\\langchain\\llms\\openai.py:790: UserWarning: You are trying to use a chat model. This way of initializing it is no longer supported. Instead, please use: `from langchain.chat_models import ChatOpenAI`\n",
      "  warnings.warn(\n"
     ]
    }
   ],
   "source": [
    "# print(docs)\n",
    "model_name = 'gpt-3.5-turbo'\n",
    "llm = OpenAI(model_name=model_name, temperature=0, max_tokens=2000)"
   ]
  },
  {
   "cell_type": "code",
   "execution_count": 24,
   "metadata": {},
   "outputs": [],
   "source": [
    "prompt = '''\n",
    "generate a csv file that store information about {topic} \n",
    "make sure to include the following attriutes {attributes}. use a real word examples.\n",
    "generate {rows} rows\n",
    "\n",
    "print the data only without intro or end\n",
    "'''\n",
    "prompt_template = PromptTemplate(template=prompt, input_variables=['topic', 'attributes', 'rows'])\n",
    "\n",
    "res = llm(prompt_template.format(topic=\"Homes\", attributes=\"Neighborhood, location, bedrooms, bathrooms, house size (sqft), price (k$)\", rows=\"10\"))"
   ]
  },
  {
   "cell_type": "code",
   "execution_count": 25,
   "metadata": {},
   "outputs": [
    {
     "name": "stdout",
     "output_type": "stream",
     "text": [
      "Neighborhood,Location,Bedrooms,Bathrooms,House Size (sqft),Price (k$)\n",
      "Pacific Heights,San Francisco,4,3,2500,2000\n",
      "Upper West Side,New York City,3,2,1800,1500\n",
      "Beverly Hills,Los Angeles,5,4,3500,3000\n",
      "Back Bay,Boston,2,1,1200,1000\n",
      "Old Town,Chicago,3,2,2000,1800\n",
      "Capitol Hill,Seattle,4,3,2200,1900\n",
      "South Beach,Miami,2,2,1500,1200\n",
      "Georgetown,Washington D.C.,3,2,1800,1600\n",
      "River Oaks,Houston,4,4,3000,2500\n",
      "Cherry Creek,Denver,2,1,1400,1100\n"
     ]
    }
   ],
   "source": [
    "print(res)"
   ]
  },
  {
   "cell_type": "code",
   "execution_count": 37,
   "metadata": {},
   "outputs": [],
   "source": [
    "with open('home.csv', 'w') as f:\n",
    "    f.write(res)"
   ]
  },
  {
   "cell_type": "code",
   "execution_count": 38,
   "metadata": {},
   "outputs": [
    {
     "data": {
      "text/html": [
       "<div>\n",
       "<style scoped>\n",
       "    .dataframe tbody tr th:only-of-type {\n",
       "        vertical-align: middle;\n",
       "    }\n",
       "\n",
       "    .dataframe tbody tr th {\n",
       "        vertical-align: top;\n",
       "    }\n",
       "\n",
       "    .dataframe thead th {\n",
       "        text-align: right;\n",
       "    }\n",
       "</style>\n",
       "<table border=\"1\" class=\"dataframe\">\n",
       "  <thead>\n",
       "    <tr style=\"text-align: right;\">\n",
       "      <th></th>\n",
       "      <th>Neighborhood</th>\n",
       "      <th>Location</th>\n",
       "      <th>Bedrooms</th>\n",
       "      <th>Bathrooms</th>\n",
       "      <th>House Size (sqft)</th>\n",
       "      <th>Price (k$)</th>\n",
       "    </tr>\n",
       "  </thead>\n",
       "  <tbody>\n",
       "    <tr>\n",
       "      <th>0</th>\n",
       "      <td>Pacific Heights</td>\n",
       "      <td>San Francisco</td>\n",
       "      <td>3</td>\n",
       "      <td>2</td>\n",
       "      <td>1800</td>\n",
       "      <td>1500</td>\n",
       "    </tr>\n",
       "    <tr>\n",
       "      <th>1</th>\n",
       "      <td>Upper West Side</td>\n",
       "      <td>New York City</td>\n",
       "      <td>2</td>\n",
       "      <td>1</td>\n",
       "      <td>1200</td>\n",
       "      <td>1200</td>\n",
       "    </tr>\n",
       "    <tr>\n",
       "      <th>2</th>\n",
       "      <td>Beverly Hills</td>\n",
       "      <td>Los Angeles</td>\n",
       "      <td>4</td>\n",
       "      <td>3</td>\n",
       "      <td>2500</td>\n",
       "      <td>2500</td>\n",
       "    </tr>\n",
       "    <tr>\n",
       "      <th>3</th>\n",
       "      <td>Back Bay</td>\n",
       "      <td>Boston</td>\n",
       "      <td>1</td>\n",
       "      <td>1</td>\n",
       "      <td>800</td>\n",
       "      <td>900</td>\n",
       "    </tr>\n",
       "    <tr>\n",
       "      <th>4</th>\n",
       "      <td>Old Town</td>\n",
       "      <td>Chicago</td>\n",
       "      <td>2</td>\n",
       "      <td>2</td>\n",
       "      <td>1500</td>\n",
       "      <td>1000</td>\n",
       "    </tr>\n",
       "    <tr>\n",
       "      <th>5</th>\n",
       "      <td>Capitol Hill</td>\n",
       "      <td>Seattle</td>\n",
       "      <td>3</td>\n",
       "      <td>2</td>\n",
       "      <td>1800</td>\n",
       "      <td>1300</td>\n",
       "    </tr>\n",
       "    <tr>\n",
       "      <th>6</th>\n",
       "      <td>South Beach</td>\n",
       "      <td>Miami</td>\n",
       "      <td>1</td>\n",
       "      <td>1</td>\n",
       "      <td>900</td>\n",
       "      <td>1100</td>\n",
       "    </tr>\n",
       "    <tr>\n",
       "      <th>7</th>\n",
       "      <td>Georgetown</td>\n",
       "      <td>Washington D.C.</td>\n",
       "      <td>2</td>\n",
       "      <td>1</td>\n",
       "      <td>1000</td>\n",
       "      <td>950</td>\n",
       "    </tr>\n",
       "    <tr>\n",
       "      <th>8</th>\n",
       "      <td>South End</td>\n",
       "      <td>Boston</td>\n",
       "      <td>3</td>\n",
       "      <td>2</td>\n",
       "      <td>1600</td>\n",
       "      <td>1400</td>\n",
       "    </tr>\n",
       "    <tr>\n",
       "      <th>9</th>\n",
       "      <td>West Hollywood</td>\n",
       "      <td>Los Angeles</td>\n",
       "      <td>1</td>\n",
       "      <td>1</td>\n",
       "      <td>700</td>\n",
       "      <td>1200</td>\n",
       "    </tr>\n",
       "  </tbody>\n",
       "</table>\n",
       "</div>"
      ],
      "text/plain": [
       "      Neighborhood         Location  Bedrooms  Bathrooms  House Size (sqft)  \\\n",
       "0  Pacific Heights    San Francisco         3          2               1800   \n",
       "1  Upper West Side    New York City         2          1               1200   \n",
       "2    Beverly Hills      Los Angeles         4          3               2500   \n",
       "3         Back Bay           Boston         1          1                800   \n",
       "4         Old Town          Chicago         2          2               1500   \n",
       "5     Capitol Hill          Seattle         3          2               1800   \n",
       "6      South Beach            Miami         1          1                900   \n",
       "7       Georgetown  Washington D.C.         2          1               1000   \n",
       "8        South End           Boston         3          2               1600   \n",
       "9   West Hollywood      Los Angeles         1          1                700   \n",
       "\n",
       "   Price (k$)  \n",
       "0        1500  \n",
       "1        1200  \n",
       "2        2500  \n",
       "3         900  \n",
       "4        1000  \n",
       "5        1300  \n",
       "6        1100  \n",
       "7         950  \n",
       "8        1400  \n",
       "9        1200  "
      ]
     },
     "execution_count": 38,
     "metadata": {},
     "output_type": "execute_result"
    }
   ],
   "source": [
    "import pandas as pd\n",
    "\n",
    "df = pd.read_csv('home.csv')\n",
    "df"
   ]
  },
  {
   "cell_type": "code",
   "execution_count": 3,
   "metadata": {},
   "outputs": [],
   "source": [
    "# read and load the csv file that store homes data\n",
    "loader = CSVLoader(file_path='home.csv')\n",
    "docs = loader.load()"
   ]
  },
  {
   "cell_type": "code",
   "execution_count": 4,
   "metadata": {},
   "outputs": [],
   "source": [
    "# load gpt model\n",
    "model_name = 'gpt-3.5-turbo'\n",
    "llm = ChatOpenAI(model_name=model_name, temperature=0.3, max_tokens=100)\n"
   ]
  },
  {
   "cell_type": "code",
   "execution_count": 5,
   "metadata": {},
   "outputs": [],
   "source": [
    "# create vector store index and query the data\n",
    "splitter = CharacterTextSplitter(chunk_size=1000, chunk_overlap=0)\n",
    "split_docs = splitter.split_documents(docs)\n",
    "\n",
    "embeddings = OpenAIEmbeddings()\n",
    "\n",
    "db = Chroma.from_documents(documents=split_docs, embedding=embeddings)\n"
   ]
  },
  {
   "cell_type": "code",
   "execution_count": 6,
   "metadata": {},
   "outputs": [],
   "source": [
    "# sample questions and answers\n",
    "\n",
    "personal_questions = [   \n",
    "    \"How big do you want your house to be?\" \n",
    "    \"What are 3 most important things for you in choosing this property?\", \n",
    "    \"Which amenities would you like?\", \n",
    "    \"Which transportation options are important to you?\",\n",
    "    \"How urban do you want your neighborhood to be?\",   \n",
    "]\n",
    "\n",
    "personal_answers = answers = [\n",
    "    \"A comfortable three-bedroom house with a spacious kitchen and a cozy living room.\",\n",
    "    \"A quiet neighborhood, good local schools, and convenient shopping options.\",\n",
    "    \"A backyard for gardening, a two-car garage, and a modern, energy-efficient heating system.\",\n",
    "    \"Easy access to a reliable bus line, proximity to a major highway, and bike-friendly roads.\",\n",
    "    \"A balance between suburban tranquility and access to urban amenities like restaurants and theaters.\"\n",
    "]"
   ]
  },
  {
   "cell_type": "code",
   "execution_count": 7,
   "metadata": {},
   "outputs": [],
   "source": [
    "# create a chat with the customer and summarize it\n",
    "history = ChatMessageHistory()\n",
    "history.add_user_message(f\"\"\"You are AI sales assisstant that will recommend user a home based on their answers to personal questions. Ask user {len(personal_questions)} questions\"\"\")\n",
    "for i in range(len(personal_questions)):\n",
    "    history.add_ai_message(personal_questions[i])\n",
    "    history.add_user_message(personal_answers[i])\n",
    "    \n",
    "history.add_ai_message(\"\"\"Now tell me a summary of a home you're considering in points\"\"\")\n",
    "memory = ConversationSummaryMemory(\n",
    "    llm=llm,\n",
    "    chat_memory=history,\n",
    "    memory_key=\"chat_history\", \n",
    "    input_key=\"question\",\n",
    "    buffer=f\"The human answered {len(personal_questions)} personal questions. Use them to extract home attributes like location, price, home area and number of rooms\",\n",
    "    return_messages=True)\n"
   ]
  },
  {
   "cell_type": "code",
   "execution_count": 8,
   "metadata": {},
   "outputs": [
    {
     "name": "stdout",
     "output_type": "stream",
     "text": [
      "input_variables=['context', 'chat_history', 'question'] template=\"You are an sales assistant who buy homes. Use the following pieces of retrieved context and customer prefrences to provide the customer with information about available home. Use five sentences maximum and keep the answer attractive. \\nContext: {context} \\nCustomer's prefernced: {chat_history} \\nQuestion: {question}\\nAnswer:\"\n"
     ]
    }
   ],
   "source": [
    "# create a prompt\n",
    "prompt=PromptTemplate(\n",
    "    template=\"You are an sales assistant who buy homes. Use the following pieces of retrieved context and customer prefrences to provide the customer with information about available home. Use five sentences maximum and keep the answer attractive. \\nContext: {context} \\nCustomer's prefernced: {chat_history} \\nQuestion: {question}\\nAnswer:\",\n",
    "    input_variables=['context', 'chat_history', 'question']\n",
    "    )\n",
    "print(prompt)\n",
    "# create question and answer model to retrieve answers from retrived information\n",
    "chain_type_kwargs = {'prompt': prompt}\n",
    "\n",
    "chain = ConversationalRetrievalChain.from_llm(\n",
    "                                llm=llm,\n",
    "                                chain_type=\"stuff\",\n",
    "                                retriever=db.as_retriever(),\n",
    "                                combine_docs_chain_kwargs=chain_type_kwargs,\n",
    "                                memory=memory\n",
    "                            )\n",
    "\n",
    "\n"
   ]
  },
  {
   "cell_type": "code",
   "execution_count": 20,
   "metadata": {},
   "outputs": [
    {
     "name": "stdout",
     "output_type": "stream",
     "text": [
      "If you're looking for a charming home in the heart of Georgetown, Washington D.C., we have the perfect option for you! This beautiful house features 2 bedrooms and 1 bathroom, with a spacious house size of 1000 sqft. And the best part? It's priced at just $950k, making it an incredible value for this highly sought-after neighborhood.\n",
      "\n",
      "If you prefer the bustling city life, our Upper West Side property in New York City might be the one for you.\n"
     ]
    }
   ],
   "source": [
    "# take input from user\n",
    "query = \"as  a sales assisstant, represent the answer in attractive way\"\n",
    "\n",
    "# run the query\n",
    "result = chain({\"question\": query})\n",
    "print(result['answer'])"
   ]
  },
  {
   "cell_type": "code",
   "execution_count": 12,
   "metadata": {},
   "outputs": [
    {
     "name": "stdout",
     "output_type": "stream",
     "text": [
      "input_variables=['context', 'chat_history', 'question'] template=\"You are an sales assistant who buy homes. Use the following pieces of retrieved context and customer prefrences to provide the customer with information about available home. Use five sentences maximum and keep the answer attractive. \\nContext: {context} \\nCustomer's prefernced: {chat_history} \\nQuestion: {question}\\nAnswer:\"\n",
      "\"Imagine living in the prestigious neighborhood of Beverly Hills, right in the heart of Los Angeles. This stunning home boasts 4 spacious bedrooms and 3 luxurious bathrooms, providing ample space for you and your family. With a generous house size of 2500 square feet, you'll have plenty of room to entertain guests and create lifelong memories. And the best part? This dream home is available at an incredible price of just $2500k. Don't miss out on this amazing opportunity to live in\n"
     ]
    }
   ],
   "source": [
    "#%%writefile HomeMatch.py\n",
    "\n",
    "#import libraries\n",
    "from langchain.document_loaders.csv_loader import CSVLoader\n",
    "from langchain.embeddings.openai import OpenAIEmbeddings\n",
    "from langchain.llms import OpenAI\n",
    "from langchain.chat_models import ChatOpenAI\n",
    "from langchain.text_splitter import CharacterTextSplitter\n",
    "from langchain.vectorstores import Chroma\n",
    "from langchain.chains import RetrievalQA\n",
    "from langchain.prompts import PromptTemplate\n",
    "from langchain import LLMChain\n",
    "from langchain.memory import ConversationSummaryMemory, ChatMessageHistory\n",
    "\n",
    "import os\n",
    "os.environ[\"OPENAI_API_KEY\"] =\"\"\n",
    "\n",
    "\n",
    "personal_questions = [   \n",
    "    \"How big do you want your house to be?\" \n",
    "    \"What are 3 most important things for you in choosing this property?\", \n",
    "    \"Which amenities would you like?\", \n",
    "    \"Which transportation options are important to you?\",\n",
    "    \"How urban do you want your neighborhood to be?\",   \n",
    "]\n",
    "\n",
    "\n",
    "# load gpt model\n",
    "#model_name = 'gpt-3.5-turbo'\n",
    "#llm = ChatOpenAI(model_name=model_name, temperature=0.3, max_tokens=100)\n",
    "\n",
    "\n",
    "# read and load the csv file that store homes data\n",
    "loader = CSVLoader(file_path='home.csv')\n",
    "docs = loader.load()\n",
    "\n",
    "\n",
    "# create vector store index and query the data\n",
    "splitter = CharacterTextSplitter(chunk_size=1000, chunk_overlap=0)\n",
    "split_docs = splitter.split_documents(docs)\n",
    "\n",
    "embeddings = OpenAIEmbeddings()\n",
    "\n",
    "db = Chroma.from_documents(documents=split_docs, embedding=embeddings)\n",
    "\n",
    "\n",
    "\n",
    "# create a chat with the customer and summarize it\n",
    "history = ChatMessageHistory()\n",
    "history.add_user_message(f\"\"\"You are AI sales assisstant that will recommend user a home based on their answers to personal questions. Ask user {len(personal_questions)} questions\"\"\")\n",
    "for i in range(len(personal_questions)):\n",
    "    history.add_ai_message(personal_questions[i])\n",
    "    history.add_user_message(input('\\nanswer: '))\n",
    "    \n",
    "history.add_ai_message(\"\"\"Now tell me a summary of a home you're considering in points\"\"\")\n",
    "memory = ConversationSummaryMemory(\n",
    "    llm=llm,\n",
    "    chat_memory=history,\n",
    "    memory_key=\"chat_history\", \n",
    "    input_key=\"question\",\n",
    "    buffer=f\"The human answered {len(personal_questions)} personal questions. Use them to extract home attributes like location, price, home area and number of rooms\",\n",
    "    return_messages=True)\n",
    "\n",
    "#print(memory.summary_message_cls.content)\n",
    "\n",
    "# create a prompt\n",
    "prompt=PromptTemplate(\n",
    "    template=\"You are an sales assistant who buy homes. Use the following pieces of retrieved context and customer prefrences to provide the customer with information about available home. Use five sentences maximum and keep the answer attractive. \\nContext: {context} \\nCustomer's prefernced: {chat_history} \\nQuestion: {question}\\nAnswer:\",\n",
    "    input_variables=['context', 'chat_history', 'question']\n",
    "    )\n",
    "\n",
    "# create question and answer model to retrieve answers from retrived information\n",
    "chain_type_kwargs = {'prompt': prompt}\n",
    "\n",
    "chain = ConversationalRetrievalChain.from_llm(\n",
    "                                llm=llm,\n",
    "                                chain_type=\"stuff\",\n",
    "                                retriever=db.as_retriever(),\n",
    "                                combine_docs_chain_kwargs=chain_type_kwargs,\n",
    "                                memory=memory\n",
    "                            )\n",
    "\n",
    "\n",
    "# take input from user\n",
    "query = \"as  a sales assisstant, represent the answer in attractive way\"\n",
    "\n",
    "# run the query\n",
    "result = chain({\"question\": query})\n",
    "print(result['answer'])\n"
   ]
  },
  {
   "cell_type": "code",
   "execution_count": 11,
   "metadata": {},
   "outputs": [
    {
     "name": "stdout",
     "output_type": "stream",
     "text": [
      "^C\n"
     ]
    }
   ],
   "source": [
    "!python HomeMatch.py"
   ]
  },
  {
   "cell_type": "code",
   "execution_count": null,
   "metadata": {},
   "outputs": [],
   "source": []
  }
 ],
 "metadata": {
  "kernelspec": {
   "display_name": "base",
   "language": "python",
   "name": "python3"
  },
  "language_info": {
   "codemirror_mode": {
    "name": "ipython",
    "version": 3
   },
   "file_extension": ".py",
   "mimetype": "text/x-python",
   "name": "python",
   "nbconvert_exporter": "python",
   "pygments_lexer": "ipython3",
   "version": "3.9.12"
  }
 },
 "nbformat": 4,
 "nbformat_minor": 2
}
